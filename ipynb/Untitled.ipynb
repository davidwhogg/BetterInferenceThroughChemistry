{
 "cells": [
  {
   "cell_type": "code",
   "execution_count": 30,
   "metadata": {},
   "outputs": [],
   "source": [
    "from astropy.table import Table, join\n",
    "import astropy.coordinates as coord\n",
    "import astropy.units as u\n",
    "import matplotlib as mpl\n",
    "import matplotlib.pyplot as plt\n",
    "import numpy as np\n",
    "import pickle\n",
    "import os.path\n",
    "from pyia import GaiaData\n",
    "from integrate_orbits import *\n",
    "from chemical_tangents import *"
   ]
  },
  {
   "cell_type": "code",
   "execution_count": 27,
   "metadata": {},
   "outputs": [],
   "source": [
    "xm = Table.read('/Users/adrian/data/GaiaDR2/GALAH-GaiaDR2-xmatch.fits')"
   ]
  },
  {
   "cell_type": "code",
   "execution_count": 28,
   "metadata": {},
   "outputs": [],
   "source": [
    "galah = Table.read('/Users/adrian/data/GaiaDR2/GALAH_DR2.1_catalog.fits')"
   ]
  },
  {
   "cell_type": "code",
   "execution_count": 32,
   "metadata": {},
   "outputs": [
    {
     "data": {
      "text/plain": [
       "['star_id',\n",
       " 'source_id',\n",
       " 'sobject_id',\n",
       " 'jmag',\n",
       " 'hmag',\n",
       " 'kmag',\n",
       " 'rv_synt',\n",
       " 'e_rv_synt',\n",
       " 'teff',\n",
       " 'e_teff',\n",
       " 'logg',\n",
       " 'e_logg',\n",
       " 'fe_h',\n",
       " 'e_fe_h',\n",
       " 'vsini',\n",
       " 'e_vsini',\n",
       " 'alpha_fe',\n",
       " 'e_alpha_fe',\n",
       " 'li_fe',\n",
       " 'e_li_fe',\n",
       " 'c_fe',\n",
       " 'e_c_fe',\n",
       " 'o_fe',\n",
       " 'e_o_fe',\n",
       " 'na_fe',\n",
       " 'e_na_fe',\n",
       " 'mg_fe',\n",
       " 'e_mg_fe',\n",
       " 'al_fe',\n",
       " 'e_al_fe',\n",
       " 'si_fe',\n",
       " 'e_si_fe',\n",
       " 'k_fe',\n",
       " 'e_k_fe',\n",
       " 'ca_fe',\n",
       " 'e_ca_fe',\n",
       " 'sc_fe',\n",
       " 'e_sc_fe',\n",
       " 'ti_fe',\n",
       " 'e_ti_fe',\n",
       " 'v_fe',\n",
       " 'e_v_fe',\n",
       " 'cr_fe',\n",
       " 'e_cr_fe',\n",
       " 'mn_fe',\n",
       " 'e_mn_fe',\n",
       " 'co_fe',\n",
       " 'e_co_fe',\n",
       " 'ni_fe',\n",
       " 'e_ni_fe',\n",
       " 'cu_fe',\n",
       " 'e_cu_fe',\n",
       " 'zn_fe',\n",
       " 'e_zn_fe',\n",
       " 'y_fe',\n",
       " 'e_y_fe',\n",
       " 'ba_fe',\n",
       " 'e_ba_fe',\n",
       " 'la_fe',\n",
       " 'e_la_fe',\n",
       " 'eu_fe',\n",
       " 'e_eu_fe',\n",
       " 'ra',\n",
       " 'dec',\n",
       " 'parallax',\n",
       " 'pmra',\n",
       " 'pmdec',\n",
       " 'radial_velocity',\n",
       " 'ra_error',\n",
       " 'dec_error',\n",
       " 'parallax_error',\n",
       " 'pmra_error',\n",
       " 'pmdec_error',\n",
       " 'radial_velocity_error',\n",
       " 'ra_dec_corr',\n",
       " 'ra_parallax_corr',\n",
       " 'ra_pmra_corr',\n",
       " 'ra_pmdec_corr',\n",
       " 'dec_parallax_corr',\n",
       " 'dec_pmra_corr',\n",
       " 'dec_pmdec_corr',\n",
       " 'parallax_pmra_corr',\n",
       " 'parallax_pmdec_corr',\n",
       " 'pmra_pmdec_corr',\n",
       " 'teff_val',\n",
       " 'phot_g_mean_mag',\n",
       " 'phot_bp_mean_mag',\n",
       " 'phot_rp_mean_mag']"
      ]
     },
     "execution_count": 32,
     "metadata": {},
     "output_type": "execute_result"
    }
   ],
   "source": [
    "xm.colnames"
   ]
  },
  {
   "cell_type": "code",
   "execution_count": 39,
   "metadata": {},
   "outputs": [],
   "source": [
    "keep_cols = ['star_id']\n",
    "for name in galah.colnames:\n",
    "    if name not in xm.colnames:\n",
    "        keep_cols.append(name)"
   ]
  },
  {
   "cell_type": "code",
   "execution_count": 43,
   "metadata": {},
   "outputs": [],
   "source": [
    "derp = join(xm, galah[keep_cols], keys='star_id')"
   ]
  },
  {
   "cell_type": "code",
   "execution_count": 45,
   "metadata": {},
   "outputs": [
    {
     "name": "stderr",
     "output_type": "stream",
     "text": [
      "WARNING: UnitsWarning: 'log(cm/s**2)' did not parse as fits unit: 'log' is not a recognized function [astropy.units.core]\n"
     ]
    }
   ],
   "source": [
    "derp.write('/Users/adrian/data/GaiaDR2/GALAH-GaiaDR2-xmatch2.fits', overwrite=True)"
   ]
  },
  {
   "cell_type": "code",
   "execution_count": null,
   "metadata": {},
   "outputs": [],
   "source": []
  },
  {
   "cell_type": "code",
   "execution_count": null,
   "metadata": {},
   "outputs": [],
   "source": []
  }
 ],
 "metadata": {
  "kernelspec": {
   "display_name": "Python [default]",
   "language": "python",
   "name": "python3"
  },
  "language_info": {
   "codemirror_mode": {
    "name": "ipython",
    "version": 3
   },
   "file_extension": ".py",
   "mimetype": "text/x-python",
   "name": "python",
   "nbconvert_exporter": "python",
   "pygments_lexer": "ipython3",
   "version": "3.6.4"
  }
 },
 "nbformat": 4,
 "nbformat_minor": 2
}
