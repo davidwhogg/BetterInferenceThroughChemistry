{
 "cells": [
  {
   "cell_type": "code",
   "execution_count": 1,
   "metadata": {},
   "outputs": [],
   "source": [
    "# standard library\n",
    "import os\n",
    "from os import path\n",
    "import sys\n",
    "_path = path.abspath('../pkg/')\n",
    "if _path not in sys.path:\n",
    "    sys.path.append(_path)\n",
    "import pickle\n",
    "\n",
    "# Third-party\n",
    "import astropy.coordinates as coord\n",
    "import astropy.units as u\n",
    "from astropy.table import Table, join\n",
    "import matplotlib.pyplot as plt\n",
    "import matplotlib as mpl\n",
    "import numpy as np\n",
    "%matplotlib inline\n",
    "import corner\n",
    "from schwimmbad import MultiPool, SerialPool\n",
    "\n",
    "# Custom\n",
    "import gala.coordinates as gc\n",
    "import gala.dynamics as gd\n",
    "import gala.integrate as gi\n",
    "import gala.potential as gp\n",
    "from gala.units import UnitSystem\n",
    "\n",
    "import emcee\n",
    "from pyia import GaiaData\n",
    "\n",
    "from chemtrails.potential import Sech2Potential, UniformPotential\n",
    "from chemtrails.likelihood import Model\n",
    "from chemtrails.data import (load_nominal_galah, load_nominal_apogee, \n",
    "                             get_abundance_data, get_label_from_abundancename)"
   ]
  },
  {
   "cell_type": "code",
   "execution_count": 2,
   "metadata": {},
   "outputs": [],
   "source": [
    "usys = UnitSystem(u.pc, u.Myr, u.Msun, u.radian, u.km/u.s)"
   ]
  },
  {
   "cell_type": "markdown",
   "metadata": {},
   "source": [
    "# GALAH"
   ]
  },
  {
   "cell_type": "code",
   "execution_count": 3,
   "metadata": {},
   "outputs": [
    {
     "data": {
      "text/plain": [
       "21733"
      ]
     },
     "execution_count": 3,
     "metadata": {},
     "output_type": "execute_result"
    }
   ],
   "source": [
    "g, galcen = load_nominal_galah('/Users/adrian/data/GaiaDR2/GALAH-GaiaDR2-xmatch.fits')\n",
    "len(g)"
   ]
  },
  {
   "cell_type": "markdown",
   "metadata": {},
   "source": [
    "### Quick model test:"
   ]
  },
  {
   "cell_type": "code",
   "execution_count": 5,
   "metadata": {},
   "outputs": [
    {
     "data": {
      "text/plain": [
       "-3689.1771340636783"
      ]
     },
     "execution_count": 5,
     "metadata": {},
     "output_type": "execute_result"
    }
   ],
   "source": [
    "model = Model(galcen, g, ['fe_h'], \n",
    "              frozen_pars=dict(sun_z=0., sun_vz=0., \n",
    "                               lnsigma=np.log(65), \n",
    "                               lnhz=np.log(250)),\n",
    "              marginalize=False, metals_deg=3)\n",
    "model([np.log(0.2**2), 0., 0., -0.1, 0])"
   ]
  },
  {
   "cell_type": "markdown",
   "metadata": {},
   "source": [
    "---\n",
    "\n",
    "## Emcee"
   ]
  },
  {
   "cell_type": "code",
   "execution_count": 6,
   "metadata": {},
   "outputs": [],
   "source": [
    "p0 = np.array([np.log(65), np.log(250),\n",
    "               np.log(0.2**2), \n",
    "               0., 0., -0.2, 0.05])\n",
    "\n",
    "nwalkers = 64\n",
    "ndim = len(p0)\n",
    "p0 = emcee.utils.sample_ball(p0, std=[1e-2, 1e-2,\n",
    "                                      1e-3, \n",
    "                                      1e-4, 1e-4, 1e-4, 1e-4], size=nwalkers)"
   ]
  },
  {
   "cell_type": "code",
   "execution_count": 7,
   "metadata": {},
   "outputs": [],
   "source": [
    "all_elems = []\n",
    "for col in g.data.colnames:\n",
    "    if (col.endswith('_fe') and not col.startswith('e_') \n",
    "            and not col.startswith('flag') and not col.startswith('alpha')):\n",
    "        col = '{}_h'.format(col.split('_')[0])\n",
    "        all_elems.append(col)\n",
    "        \n",
    "all_elems = ['fe_h', 'alpha_fe'] + sorted(all_elems)"
   ]
  },
  {
   "cell_type": "code",
   "execution_count": 16,
   "metadata": {},
   "outputs": [
    {
     "name": "stdout",
     "output_type": "stream",
     "text": [
      "fe_h\n"
     ]
    },
    {
     "name": "stderr",
     "output_type": "stream",
     "text": [
      "\r",
      "  0%|          | 0/1024 [00:00<?, ?it/s]"
     ]
    },
    {
     "name": "stdout",
     "output_type": "stream",
     "text": [
      "alpha_fe\n",
      "burn-in\n"
     ]
    },
    {
     "name": "stderr",
     "output_type": "stream",
     "text": [
      "100%|██████████| 1024/1024 [00:49<00:00, 20.61it/s]\n",
      "  0%|          | 2/1024 [00:00<00:59, 17.15it/s]"
     ]
    },
    {
     "name": "stdout",
     "output_type": "stream",
     "text": [
      "sampling\n"
     ]
    },
    {
     "name": "stderr",
     "output_type": "stream",
     "text": [
      "100%|██████████| 1024/1024 [00:48<00:00, 21.16it/s]\n",
      "WARNING:root:Too few points to create valid contours\n",
      "  0%|          | 0/1024 [00:00<?, ?it/s]"
     ]
    },
    {
     "name": "stdout",
     "output_type": "stream",
     "text": [
      "al_h\n",
      "burn-in\n"
     ]
    },
    {
     "name": "stderr",
     "output_type": "stream",
     "text": [
      "100%|██████████| 1024/1024 [00:52<00:00, 19.65it/s]\n",
      "  0%|          | 2/1024 [00:00<00:57, 17.91it/s]"
     ]
    },
    {
     "name": "stdout",
     "output_type": "stream",
     "text": [
      "sampling\n"
     ]
    },
    {
     "name": "stderr",
     "output_type": "stream",
     "text": [
      "100%|██████████| 1024/1024 [00:49<00:00, 20.59it/s]\n",
      "  0%|          | 0/1024 [00:00<?, ?it/s]"
     ]
    },
    {
     "name": "stdout",
     "output_type": "stream",
     "text": [
      "ba_h\n",
      "burn-in\n"
     ]
    },
    {
     "name": "stderr",
     "output_type": "stream",
     "text": [
      "100%|██████████| 1024/1024 [00:47<00:00, 21.94it/s]\n",
      "  0%|          | 2/1024 [00:00<00:57, 17.66it/s]"
     ]
    },
    {
     "name": "stdout",
     "output_type": "stream",
     "text": [
      "sampling\n"
     ]
    },
    {
     "name": "stderr",
     "output_type": "stream",
     "text": [
      "100%|██████████| 1024/1024 [00:47<00:00, 22.15it/s]\n",
      "  0%|          | 0/1024 [00:00<?, ?it/s]"
     ]
    },
    {
     "name": "stdout",
     "output_type": "stream",
     "text": [
      "c_h\n",
      "burn-in\n"
     ]
    },
    {
     "name": "stderr",
     "output_type": "stream",
     "text": [
      "100%|██████████| 1024/1024 [00:54<00:00, 18.74it/s]\n",
      "  0%|          | 2/1024 [00:00<01:02, 16.48it/s]"
     ]
    },
    {
     "name": "stdout",
     "output_type": "stream",
     "text": [
      "sampling\n"
     ]
    },
    {
     "name": "stderr",
     "output_type": "stream",
     "text": [
      "100%|██████████| 1024/1024 [00:54<00:00, 18.89it/s]\n",
      "  0%|          | 0/1024 [00:00<?, ?it/s]"
     ]
    },
    {
     "name": "stdout",
     "output_type": "stream",
     "text": [
      "ca_h\n",
      "burn-in\n"
     ]
    },
    {
     "name": "stderr",
     "output_type": "stream",
     "text": [
      "100%|██████████| 1024/1024 [00:58<00:00, 17.58it/s]\n",
      "  0%|          | 2/1024 [00:00<00:56, 18.21it/s]"
     ]
    },
    {
     "name": "stdout",
     "output_type": "stream",
     "text": [
      "sampling\n"
     ]
    },
    {
     "name": "stderr",
     "output_type": "stream",
     "text": [
      "100%|██████████| 1024/1024 [00:49<00:00, 20.59it/s]\n",
      "  0%|          | 0/1024 [00:00<?, ?it/s]"
     ]
    },
    {
     "name": "stdout",
     "output_type": "stream",
     "text": [
      "co_h\n",
      "burn-in\n"
     ]
    },
    {
     "name": "stderr",
     "output_type": "stream",
     "text": [
      "100%|██████████| 1024/1024 [00:51<00:00, 19.29it/s]\n",
      "  0%|          | 2/1024 [00:00<01:03, 16.16it/s]"
     ]
    },
    {
     "name": "stdout",
     "output_type": "stream",
     "text": [
      "sampling\n"
     ]
    },
    {
     "name": "stderr",
     "output_type": "stream",
     "text": [
      "100%|██████████| 1024/1024 [00:50<00:00, 20.29it/s]\n",
      "  0%|          | 0/1024 [00:00<?, ?it/s]"
     ]
    },
    {
     "name": "stdout",
     "output_type": "stream",
     "text": [
      "cr_h\n",
      "burn-in\n"
     ]
    },
    {
     "name": "stderr",
     "output_type": "stream",
     "text": [
      "100%|██████████| 1024/1024 [00:50<00:00, 20.47it/s]\n",
      "  0%|          | 2/1024 [00:00<01:09, 14.80it/s]"
     ]
    },
    {
     "name": "stdout",
     "output_type": "stream",
     "text": [
      "sampling\n"
     ]
    },
    {
     "name": "stderr",
     "output_type": "stream",
     "text": [
      "100%|██████████| 1024/1024 [00:51<00:00, 20.06it/s]\n",
      "  0%|          | 0/1024 [00:00<?, ?it/s]"
     ]
    },
    {
     "name": "stdout",
     "output_type": "stream",
     "text": [
      "cu_h\n",
      "burn-in\n"
     ]
    },
    {
     "name": "stderr",
     "output_type": "stream",
     "text": [
      "100%|██████████| 1024/1024 [00:52<00:00, 19.51it/s]\n",
      "  0%|          | 2/1024 [00:00<00:59, 17.21it/s]"
     ]
    },
    {
     "name": "stdout",
     "output_type": "stream",
     "text": [
      "sampling\n"
     ]
    },
    {
     "name": "stderr",
     "output_type": "stream",
     "text": [
      "100%|██████████| 1024/1024 [00:53<00:00, 19.23it/s]\n",
      "  0%|          | 0/1024 [00:00<?, ?it/s]"
     ]
    },
    {
     "name": "stdout",
     "output_type": "stream",
     "text": [
      "eu_h\n",
      "burn-in\n"
     ]
    },
    {
     "name": "stderr",
     "output_type": "stream",
     "text": [
      "100%|██████████| 1024/1024 [00:52<00:00, 19.59it/s]\n",
      "  0%|          | 2/1024 [00:00<00:58, 17.43it/s]"
     ]
    },
    {
     "name": "stdout",
     "output_type": "stream",
     "text": [
      "sampling\n"
     ]
    },
    {
     "name": "stderr",
     "output_type": "stream",
     "text": [
      "100%|██████████| 1024/1024 [00:49<00:00, 21.42it/s]\n",
      "  0%|          | 0/1024 [00:00<?, ?it/s]"
     ]
    },
    {
     "name": "stdout",
     "output_type": "stream",
     "text": [
      "k_h\n",
      "burn-in\n"
     ]
    },
    {
     "name": "stderr",
     "output_type": "stream",
     "text": [
      "100%|██████████| 1024/1024 [00:48<00:00, 20.96it/s]\n",
      "  0%|          | 0/1024 [00:00<?, ?it/s]"
     ]
    },
    {
     "name": "stdout",
     "output_type": "stream",
     "text": [
      "sampling\n"
     ]
    },
    {
     "name": "stderr",
     "output_type": "stream",
     "text": [
      "100%|██████████| 1024/1024 [00:47<00:00, 21.47it/s]\n",
      "  0%|          | 0/1024 [00:00<?, ?it/s]"
     ]
    },
    {
     "name": "stdout",
     "output_type": "stream",
     "text": [
      "la_h\n",
      "burn-in\n"
     ]
    },
    {
     "name": "stderr",
     "output_type": "stream",
     "text": [
      "100%|██████████| 1024/1024 [00:52<00:00, 19.61it/s]\n",
      "  0%|          | 2/1024 [00:00<00:54, 18.86it/s]"
     ]
    },
    {
     "name": "stdout",
     "output_type": "stream",
     "text": [
      "sampling\n"
     ]
    },
    {
     "name": "stderr",
     "output_type": "stream",
     "text": [
      "100%|██████████| 1024/1024 [00:55<00:00, 18.54it/s]\n",
      "  0%|          | 0/1024 [00:00<?, ?it/s]"
     ]
    },
    {
     "name": "stdout",
     "output_type": "stream",
     "text": [
      "li_h\n",
      "burn-in\n"
     ]
    },
    {
     "name": "stderr",
     "output_type": "stream",
     "text": [
      "100%|██████████| 1024/1024 [00:50<00:00, 20.12it/s]\n",
      "  0%|          | 2/1024 [00:00<00:51, 19.94it/s]"
     ]
    },
    {
     "name": "stdout",
     "output_type": "stream",
     "text": [
      "sampling\n"
     ]
    },
    {
     "name": "stderr",
     "output_type": "stream",
     "text": [
      "100%|██████████| 1024/1024 [00:47<00:00, 21.34it/s]\n",
      "  0%|          | 0/1024 [00:00<?, ?it/s]"
     ]
    },
    {
     "name": "stdout",
     "output_type": "stream",
     "text": [
      "mg_h\n",
      "burn-in\n"
     ]
    },
    {
     "name": "stderr",
     "output_type": "stream",
     "text": [
      "100%|██████████| 1024/1024 [00:45<00:00, 22.45it/s]\n",
      "  0%|          | 0/1024 [00:00<?, ?it/s]"
     ]
    },
    {
     "name": "stdout",
     "output_type": "stream",
     "text": [
      "sampling\n"
     ]
    },
    {
     "name": "stderr",
     "output_type": "stream",
     "text": [
      "100%|██████████| 1024/1024 [00:44<00:00, 22.47it/s]\n",
      "WARNING:root:Too few points to create valid contours\n",
      "  0%|          | 0/1024 [00:00<?, ?it/s]"
     ]
    },
    {
     "name": "stdout",
     "output_type": "stream",
     "text": [
      "mn_h\n",
      "burn-in\n"
     ]
    },
    {
     "name": "stderr",
     "output_type": "stream",
     "text": [
      "100%|██████████| 1024/1024 [01:03<00:00, 16.01it/s]\n",
      "  0%|          | 0/1024 [00:00<?, ?it/s]"
     ]
    },
    {
     "name": "stdout",
     "output_type": "stream",
     "text": [
      "sampling\n"
     ]
    },
    {
     "name": "stderr",
     "output_type": "stream",
     "text": [
      "100%|██████████| 1024/1024 [00:58<00:00, 16.97it/s]\n",
      "  0%|          | 0/1024 [00:00<?, ?it/s]"
     ]
    },
    {
     "name": "stdout",
     "output_type": "stream",
     "text": [
      "na_h\n",
      "burn-in\n"
     ]
    },
    {
     "name": "stderr",
     "output_type": "stream",
     "text": [
      "100%|██████████| 1024/1024 [00:55<00:00, 19.23it/s]\n",
      "  0%|          | 2/1024 [00:00<00:55, 18.48it/s]"
     ]
    },
    {
     "name": "stdout",
     "output_type": "stream",
     "text": [
      "sampling\n"
     ]
    },
    {
     "name": "stderr",
     "output_type": "stream",
     "text": [
      "100%|██████████| 1024/1024 [00:58<00:00, 16.69it/s]\n"
     ]
    },
    {
     "name": "stdout",
     "output_type": "stream",
     "text": [
      "ni_h\n",
      "burn-in\n"
     ]
    },
    {
     "name": "stderr",
     "output_type": "stream",
     "text": [
      "100%|██████████| 1024/1024 [01:06<00:00, 17.18it/s]\n",
      "  0%|          | 2/1024 [00:00<01:03, 16.22it/s]"
     ]
    },
    {
     "name": "stdout",
     "output_type": "stream",
     "text": [
      "sampling\n"
     ]
    },
    {
     "name": "stderr",
     "output_type": "stream",
     "text": [
      "100%|██████████| 1024/1024 [01:05<00:00, 16.21it/s]\n",
      "  0%|          | 0/1024 [00:00<?, ?it/s]"
     ]
    },
    {
     "name": "stdout",
     "output_type": "stream",
     "text": [
      "o_h\n",
      "burn-in\n"
     ]
    },
    {
     "name": "stderr",
     "output_type": "stream",
     "text": [
      "100%|██████████| 1024/1024 [00:53<00:00, 20.43it/s]\n",
      "  0%|          | 3/1024 [00:00<00:44, 22.79it/s]"
     ]
    },
    {
     "name": "stdout",
     "output_type": "stream",
     "text": [
      "sampling\n"
     ]
    },
    {
     "name": "stderr",
     "output_type": "stream",
     "text": [
      "100%|██████████| 1024/1024 [00:47<00:00, 22.74it/s]\n",
      "  0%|          | 0/1024 [00:00<?, ?it/s]"
     ]
    },
    {
     "name": "stdout",
     "output_type": "stream",
     "text": [
      "sc_h\n",
      "burn-in\n"
     ]
    },
    {
     "name": "stderr",
     "output_type": "stream",
     "text": [
      "100%|██████████| 1024/1024 [00:52<00:00, 19.47it/s]\n",
      "  0%|          | 0/1024 [00:00<?, ?it/s]"
     ]
    },
    {
     "name": "stdout",
     "output_type": "stream",
     "text": [
      "sampling\n"
     ]
    },
    {
     "name": "stderr",
     "output_type": "stream",
     "text": [
      "100%|██████████| 1024/1024 [00:52<00:00, 19.12it/s]\n",
      "  0%|          | 0/1024 [00:00<?, ?it/s]"
     ]
    },
    {
     "name": "stdout",
     "output_type": "stream",
     "text": [
      "si_h\n",
      "burn-in\n"
     ]
    },
    {
     "name": "stderr",
     "output_type": "stream",
     "text": [
      "100%|██████████| 1024/1024 [00:53<00:00, 19.26it/s]\n",
      "  0%|          | 2/1024 [00:00<00:53, 19.06it/s]"
     ]
    },
    {
     "name": "stdout",
     "output_type": "stream",
     "text": [
      "sampling\n"
     ]
    },
    {
     "name": "stderr",
     "output_type": "stream",
     "text": [
      "100%|██████████| 1024/1024 [00:55<00:00, 18.57it/s]\n",
      "  0%|          | 0/1024 [00:00<?, ?it/s]"
     ]
    },
    {
     "name": "stdout",
     "output_type": "stream",
     "text": [
      "ti_h\n",
      "burn-in\n"
     ]
    },
    {
     "name": "stderr",
     "output_type": "stream",
     "text": [
      "100%|██████████| 1024/1024 [00:54<00:00, 18.96it/s]\n",
      "  0%|          | 2/1024 [00:00<00:53, 19.23it/s]"
     ]
    },
    {
     "name": "stdout",
     "output_type": "stream",
     "text": [
      "sampling\n"
     ]
    },
    {
     "name": "stderr",
     "output_type": "stream",
     "text": [
      "100%|██████████| 1024/1024 [00:54<00:00, 18.61it/s]\n",
      "  0%|          | 0/1024 [00:00<?, ?it/s]"
     ]
    },
    {
     "name": "stdout",
     "output_type": "stream",
     "text": [
      "v_h\n",
      "burn-in\n"
     ]
    },
    {
     "name": "stderr",
     "output_type": "stream",
     "text": [
      "100%|██████████| 1024/1024 [00:50<00:00, 20.14it/s]\n",
      "  0%|          | 0/1024 [00:00<?, ?it/s]"
     ]
    },
    {
     "name": "stdout",
     "output_type": "stream",
     "text": [
      "sampling\n"
     ]
    },
    {
     "name": "stderr",
     "output_type": "stream",
     "text": [
      "100%|██████████| 1024/1024 [00:50<00:00, 20.32it/s]\n",
      "  0%|          | 0/1024 [00:00<?, ?it/s]"
     ]
    },
    {
     "name": "stdout",
     "output_type": "stream",
     "text": [
      "y_h\n",
      "burn-in\n"
     ]
    },
    {
     "name": "stderr",
     "output_type": "stream",
     "text": [
      "100%|██████████| 1024/1024 [00:55<00:00, 18.56it/s]\n",
      "  0%|          | 0/1024 [00:00<?, ?it/s]"
     ]
    },
    {
     "name": "stdout",
     "output_type": "stream",
     "text": [
      "sampling\n"
     ]
    },
    {
     "name": "stderr",
     "output_type": "stream",
     "text": [
      "100%|██████████| 1024/1024 [00:59<00:00, 18.61it/s]\n",
      "  0%|          | 0/1024 [00:00<?, ?it/s]"
     ]
    },
    {
     "name": "stdout",
     "output_type": "stream",
     "text": [
      "zn_h\n",
      "burn-in\n"
     ]
    },
    {
     "name": "stderr",
     "output_type": "stream",
     "text": [
      "100%|██████████| 1024/1024 [00:54<00:00, 16.80it/s]\n",
      "  0%|          | 2/1024 [00:00<00:56, 18.03it/s]"
     ]
    },
    {
     "name": "stdout",
     "output_type": "stream",
     "text": [
      "sampling\n"
     ]
    },
    {
     "name": "stderr",
     "output_type": "stream",
     "text": [
      "100%|██████████| 1024/1024 [00:55<00:00, 18.51it/s]\n"
     ]
    }
   ],
   "source": [
    "nburn = 1024\n",
    "nsteps = 1024\n",
    "\n",
    "# elem = 'fe_h'\n",
    "for elem in all_elems:\n",
    "    print(elem)\n",
    "    mask = np.isfinite(get_abundance_data(g, elem))\n",
    "    model = Model(galcen[mask], g[mask], [elem],\n",
    "                  frozen_pars=dict(sun_z=0., sun_vz=0.),\n",
    "                  marginalize=False, metals_deg=3)\n",
    "    \n",
    "    cache_filename = path.join('sampler-unmarginalized-{0}.pkl'.format(elem))\n",
    "    if not path.exists(cache_filename):\n",
    "        with SerialPool() as pool:\n",
    "            sampler = emcee.EnsembleSampler(nwalkers, ndim, model, \n",
    "                                            pool=pool)\n",
    "\n",
    "            print(\"burn-in\")\n",
    "            pos, prob, state = sampler.run_mcmc(p0.copy(), nburn, progress=True)\n",
    "\n",
    "            if nsteps > 0:\n",
    "                print(\"sampling\")\n",
    "                sampler.reset()\n",
    "                _ = sampler.run_mcmc(pos, nsteps, progress=True)   \n",
    "        \n",
    "        with open(cache_filename, 'wb') as f:\n",
    "            pickle.dump(sampler, f)\n",
    "    \n",
    "    with open(cache_filename, 'rb') as f:\n",
    "        sampler = pickle.load(f)\n",
    "        \n",
    "    Sigma, hz, var = np.exp(sampler.flatchain[:, :3]).T\n",
    "    fig = corner.corner(np.vstack((Sigma, hz, np.sqrt(var))).T, bins=128,\n",
    "                        range=[(16, 256), (32, 512), (0.04, 0.5)],\n",
    "                        labels=[r'$\\Sigma$', r'$h_z$', r'$\\sigma$'])\n",
    "    fig.savefig('corner-unmarginalized-{0}.png'.format(elem), dpi=250)\n",
    "    \n",
    "    # ---------------\n",
    "    \n",
    "    alpha = np.mean(sampler.flatchain[:, 3:], axis=0)\n",
    "    pot0 = Sech2Potential(Sigma=np.mean(Sigma)*u.Msun/u.pc**2,\n",
    "                          hz=np.mean(hz)*u.pc, units=usys)\n",
    "    Ez = (0.5*galcen.v_z**2 + pot0.energy(galcen.z[None])) / 1000.\n",
    "\n",
    "    mu_func = np.poly1d(alpha)\n",
    "\n",
    "    fig, ax = plt.subplots(1)\n",
    "    \n",
    "    x = np.log(Ez.value)\n",
    "    x = x - np.mean(x)\n",
    "    ax.plot(x, get_abundance_data(g, elem), \n",
    "            marker='o', ls='none', color='k', \n",
    "            alpha=0.25, ms=1, mew=0)\n",
    "    \n",
    "    grid = np.linspace(x.min(), x.max(), 128)\n",
    "    ax.plot(grid, mu_func(grid), marker='')\n",
    "    \n",
    "    ax.set_xlabel(r'$\\ln E_z-\\rm{mean}(\\ln E_z)$')\n",
    "    ax.set_ylabel(get_label_from_abundancename(elem))\n",
    "    ax.set_xlim(-4, 3)\n",
    "    ax.set_ylim(-2, 2)\n",
    "    fig.tight_layout()\n",
    "    fig.savefig('elem-Ez-unmarginalized-{0}.png'.format(elem), dpi=250)\n",
    "    \n",
    "    plt.close('all')"
   ]
  },
  {
   "cell_type": "code",
   "execution_count": 44,
   "metadata": {},
   "outputs": [],
   "source": [
    "# fig, axes = plt.subplots(ndim, 1, figsize=(8, 4*ndim),\n",
    "#                          sharex=True)\n",
    "# for k in range(ndim):\n",
    "#     ax = axes[k]\n",
    "#     for walker in sampler.chain[..., k]:\n",
    "#         ax.plot(walker, marker='', drawstyle='steps-mid', \n",
    "#                 color='k', alpha=0.2)"
   ]
  },
  {
   "cell_type": "code",
   "execution_count": 27,
   "metadata": {},
   "outputs": [
    {
     "data": {
      "text/plain": [
       "(56.898550995024742, 89.578923683913203, 0.24710017182021057)"
      ]
     },
     "execution_count": 27,
     "metadata": {},
     "output_type": "execute_result"
    }
   ],
   "source": [
    "lnsigma, lnhz, lnvar, *alpha = np.mean(sampler.flatchain, axis=0)\n",
    "np.exp(lnsigma), np.exp(lnhz), np.sqrt(np.exp(lnvar))"
   ]
  },
  {
   "cell_type": "code",
   "execution_count": null,
   "metadata": {},
   "outputs": [],
   "source": []
  }
 ],
 "metadata": {
  "kernelspec": {
   "display_name": "Python [default]",
   "language": "python",
   "name": "python3"
  },
  "language_info": {
   "codemirror_mode": {
    "name": "ipython",
    "version": 3
   },
   "file_extension": ".py",
   "mimetype": "text/x-python",
   "name": "python",
   "nbconvert_exporter": "python",
   "pygments_lexer": "ipython3",
   "version": "3.6.8"
  }
 },
 "nbformat": 4,
 "nbformat_minor": 2
}
