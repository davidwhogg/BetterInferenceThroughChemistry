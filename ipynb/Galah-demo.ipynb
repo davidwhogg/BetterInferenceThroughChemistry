{
 "cells": [
  {
   "cell_type": "code",
   "execution_count": null,
   "metadata": {
    "collapsed": false
   },
   "outputs": [],
   "source": [
    "# no-op for now.\n",
    "# !pip install git+https://github.com/adrn/pyia"
   ]
  },
  {
   "cell_type": "code",
   "execution_count": null,
   "metadata": {
    "collapsed": true
   },
   "outputs": [],
   "source": [
    "# Third-party\n",
    "from astropy.table import Table\n",
    "import astropy.coordinates as coord\n",
    "import astropy.units as u\n",
    "import matplotlib as mpl\n",
    "import matplotlib.pyplot as plt\n",
    "import numpy as np\n",
    "%matplotlib inline\n",
    "from scipy.stats import binned_statistic_2d\n",
    "\n",
    "from pyia import GaiaData"
   ]
  },
  {
   "cell_type": "code",
   "execution_count": null,
   "metadata": {
    "collapsed": false
   },
   "outputs": [],
   "source": [
    "galah = GaiaData('/Users/dhogg/ChemicalTangents/data/GALAH-GaiaDR2-xmatch.fits.gz')\n",
    "galah = galah[(galah.parallax / galah.parallax_error) > 10.]\n",
    "galah = galah[np.isfinite(galah.teff) & (galah.teff > 4000*u.K) & (galah.teff < 6500*u.K)]\n",
    "galah = galah[np.isfinite(galah.logg) & (galah.logg < 3.5)]\n",
    "len(galah)"
   ]
  },
  {
   "cell_type": "code",
   "execution_count": null,
   "metadata": {
    "collapsed": false
   },
   "outputs": [],
   "source": [
    "c = galah.get_skycoord(radial_velocity=galah.rv_synt)"
   ]
  },
  {
   "cell_type": "code",
   "execution_count": null,
   "metadata": {
    "collapsed": true
   },
   "outputs": [],
   "source": [
    "galcen = c.transform_to(coord.Galactocentric(z_sun=0*u.pc))"
   ]
  },
  {
   "cell_type": "code",
   "execution_count": null,
   "metadata": {
    "collapsed": false
   },
   "outputs": [],
   "source": [
    "abundancenames = [\"fe_h\", \"mg_fe\", \"o_fe\", \"al_fe\", \"mn_fe\", \"eu_fe\"]\n",
    "abundancelabels = {}\n",
    "abundancelabels[\"fe_h\"] = \"[Fe/H]\"\n",
    "abundancelabels[\"mg_fe\"] = \"[Mg/Fe]\"\n",
    "abundancelabels[\"o_fe\"] = \"[O/Fe]\"\n",
    "abundancelabels[\"al_fe\"] = \"[Al/Fe]\"\n",
    "abundancelabels[\"mn_fe\"] = \"[Mn/Fe]\"\n",
    "abundancelabels[\"eu_fe\"] = \"[Eu/Fe]\""
   ]
  },
  {
   "cell_type": "code",
   "execution_count": null,
   "metadata": {
    "collapsed": true
   },
   "outputs": [],
   "source": [
    "zmax = 1500. # pc\n",
    "vzmax = 75. # km / s"
   ]
  },
  {
   "cell_type": "code",
   "execution_count": null,
   "metadata": {
    "collapsed": false
   },
   "outputs": [],
   "source": [
    "def plot_some_abundances(galah, galcen):\n",
    "    nx, ny = 3, 2\n",
    "    fig, ax = plt.subplots(ny, nx, figsize=(15, 10), sharex=True, sharey=True)\n",
    "    ax = ax.flatten()\n",
    "    for i,aname in enumerate(abundancenames):\n",
    "        abundance = getattr(galah, aname)\n",
    "        good = np.abs(abundance) < 5.\n",
    "        vmin, vmax = np.percentile(abundance[good], [5., 95.])\n",
    "        foo = ax[i].scatter(galcen[good].v_z.to(u.km/u.s).value, \n",
    "                         galcen[good].z.to(u.pc).value,\n",
    "                         marker=\".\", s=3000/np.sqrt(np.sum(good)),\n",
    "                         c=abundance[good], vmin=vmin, vmax=vmax, alpha=0.3,\n",
    "                         cmap=mpl.cm.plasma)\n",
    "        ax[i].text(-vzmax * 0.96, zmax * 0.96, abundancelabels[aname], ha=\"left\", va=\"top\", backgroundcolor=\"w\")\n",
    "        if i % nx == 0:\n",
    "            ax[i].set_ylabel(\"$z$ [pc]\")\n",
    "        if i // nx + 1 == ny:\n",
    "            ax[i].set_xlabel(\"$v_z$ [km/s]\")\n",
    "    ax[0].set_xlim(-vzmax, vzmax)\n",
    "    ax[0].set_ylim(-zmax, zmax)\n",
    "    return fig.tight_layout()"
   ]
  },
  {
   "cell_type": "code",
   "execution_count": null,
   "metadata": {
    "collapsed": false
   },
   "outputs": [],
   "source": [
    "plot_some_abundances(galah, galcen)"
   ]
  },
  {
   "cell_type": "code",
   "execution_count": null,
   "metadata": {
    "collapsed": false
   },
   "outputs": [],
   "source": [
    "nclass = 4\n",
    "nstars = len(galcen)\n",
    "loggrank = np.arange(nstars)[np.argsort(galah.logg)]\n",
    "loggclass = loggrank // (nstars // nclass)"
   ]
  },
  {
   "cell_type": "code",
   "execution_count": null,
   "metadata": {
    "collapsed": false,
    "scrolled": false
   },
   "outputs": [],
   "source": [
    "for c in range(nclass):\n",
    "    inc = loggclass == c\n",
    "    plot_some_abundances(galah[inc], galcen[inc])"
   ]
  },
  {
   "cell_type": "code",
   "execution_count": null,
   "metadata": {
    "collapsed": true
   },
   "outputs": [],
   "source": [
    " "
   ]
  }
 ],
 "metadata": {
  "_draft": {
   "nbviewer_url": "https://gist.github.com/6e6f60d375bed73ed78aff6637a7f226"
  },
  "gist": {
   "data": {
    "description": "Galah-for-Hogg.ipynb",
    "public": true
   },
   "id": "6e6f60d375bed73ed78aff6637a7f226"
  },
  "kernelspec": {
   "display_name": "Python 3",
   "language": "python",
   "name": "python3"
  },
  "language_info": {
   "codemirror_mode": {
    "name": "ipython",
    "version": 3
   },
   "file_extension": ".py",
   "mimetype": "text/x-python",
   "name": "python",
   "nbconvert_exporter": "python",
   "pygments_lexer": "ipython3",
   "version": "3.6.0"
  }
 },
 "nbformat": 4,
 "nbformat_minor": 2
}
